{
  "nbformat": 4,
  "nbformat_minor": 0,
  "metadata": {
    "colab": {
      "provenance": [],
      "authorship_tag": "ABX9TyMKgGOKVRuGT902Tu867Tyn",
      "include_colab_link": true
    },
    "kernelspec": {
      "name": "python3",
      "display_name": "Python 3"
    },
    "language_info": {
      "name": "python"
    }
  },
  "cells": [
    {
      "cell_type": "markdown",
      "metadata": {
        "id": "view-in-github",
        "colab_type": "text"
      },
      "source": [
        "<a href=\"https://colab.research.google.com/github/saravanakumarrc/langchain-rag/blob/main/langchain_azure_openai_pdf_loader_multiple_v1.ipynb\" target=\"_parent\"><img src=\"https://colab.research.google.com/assets/colab-badge.svg\" alt=\"Open In Colab\"/></a>"
      ]
    },
    {
      "cell_type": "code",
      "execution_count": 1,
      "metadata": {
        "colab": {
          "base_uri": "https://localhost:8080/"
        },
        "id": "1USfKKiUOgZK",
        "outputId": "4b16de4c-7630-47aa-e4e9-f13a9b3aca16"
      },
      "outputs": [
        {
          "output_type": "stream",
          "name": "stdout",
          "text": [
            "\u001b[?25l   \u001b[90m━━━━━━━━━━━━━━━━━━━━━━━━━━━━━━━━━━━━━━━━\u001b[0m \u001b[32m0.0/2.5 MB\u001b[0m \u001b[31m?\u001b[0m eta \u001b[36m-:--:--\u001b[0m\r\u001b[2K   \u001b[91m━━━━━━━━━\u001b[0m\u001b[90m╺\u001b[0m\u001b[90m━━━━━━━━━━━━━━━━━━━━━━━━━━━━━━\u001b[0m \u001b[32m0.6/2.5 MB\u001b[0m \u001b[31m16.3 MB/s\u001b[0m eta \u001b[36m0:00:01\u001b[0m\r\u001b[2K   \u001b[91m━━━━━━━━━━━━━━━━━━━━━━━━━━━━━━━━━━━━\u001b[0m\u001b[91m╸\u001b[0m\u001b[90m━━━\u001b[0m \u001b[32m2.3/2.5 MB\u001b[0m \u001b[31m32.4 MB/s\u001b[0m eta \u001b[36m0:00:01\u001b[0m\r\u001b[2K   \u001b[91m━━━━━━━━━━━━━━━━━━━━━━━━━━━━━━━━━━━━━━━\u001b[0m\u001b[91m╸\u001b[0m \u001b[32m2.5/2.5 MB\u001b[0m \u001b[31m25.8 MB/s\u001b[0m eta \u001b[36m0:00:01\u001b[0m\r\u001b[2K   \u001b[90m━━━━━━━━━━━━━━━━━━━━━━━━━━━━━━━━━━━━━━━━\u001b[0m \u001b[32m2.5/2.5 MB\u001b[0m \u001b[31m18.5 MB/s\u001b[0m eta \u001b[36m0:00:00\u001b[0m\n",
            "\u001b[2K   \u001b[90m━━━━━━━━━━━━━━━━━━━━━━━━━━━━━━━━━━━━━━━━\u001b[0m \u001b[32m135.7/135.7 kB\u001b[0m \u001b[31m5.0 MB/s\u001b[0m eta \u001b[36m0:00:00\u001b[0m\n",
            "\u001b[2K   \u001b[90m━━━━━━━━━━━━━━━━━━━━━━━━━━━━━━━━━━━━━━━━\u001b[0m \u001b[32m1.0/1.0 MB\u001b[0m \u001b[31m22.3 MB/s\u001b[0m eta \u001b[36m0:00:00\u001b[0m\n",
            "\u001b[2K   \u001b[90m━━━━━━━━━━━━━━━━━━━━━━━━━━━━━━━━━━━━━━━━\u001b[0m \u001b[32m411.6/411.6 kB\u001b[0m \u001b[31m16.8 MB/s\u001b[0m eta \u001b[36m0:00:00\u001b[0m\n",
            "\u001b[2K   \u001b[90m━━━━━━━━━━━━━━━━━━━━━━━━━━━━━━━━━━━━━━━━\u001b[0m \u001b[32m43.7/43.7 kB\u001b[0m \u001b[31m2.8 MB/s\u001b[0m eta \u001b[36m0:00:00\u001b[0m\n",
            "\u001b[2K   \u001b[90m━━━━━━━━━━━━━━━━━━━━━━━━━━━━━━━━━━━━━━━━\u001b[0m \u001b[32m49.3/49.3 kB\u001b[0m \u001b[31m2.2 MB/s\u001b[0m eta \u001b[36m0:00:00\u001b[0m\n",
            "\u001b[?25h"
          ]
        }
      ],
      "source": [
        "%pip install --quiet --upgrade langchain-text-splitters langchain-community langgraph"
      ]
    },
    {
      "cell_type": "code",
      "source": [
        "%pip install -qU langchain-openai"
      ],
      "metadata": {
        "colab": {
          "base_uri": "https://localhost:8080/"
        },
        "id": "NlP0-cdZO7uD",
        "outputId": "a335f57d-5455-4ffa-cb67-c22c25209750"
      },
      "execution_count": 2,
      "outputs": [
        {
          "output_type": "stream",
          "name": "stdout",
          "text": [
            "\u001b[?25l   \u001b[90m━━━━━━━━━━━━━━━━━━━━━━━━━━━━━━━━━━━━━━━━\u001b[0m \u001b[32m0.0/50.9 kB\u001b[0m \u001b[31m?\u001b[0m eta \u001b[36m-:--:--\u001b[0m\r\u001b[2K   \u001b[90m━━━━━━━━━━━━━━━━━━━━━━━━━━━━━━━━━━━━━━━━\u001b[0m \u001b[32m50.9/50.9 kB\u001b[0m \u001b[31m2.9 MB/s\u001b[0m eta \u001b[36m0:00:00\u001b[0m\n",
            "\u001b[?25h\u001b[?25l   \u001b[90m━━━━━━━━━━━━━━━━━━━━━━━━━━━━━━━━━━━━━━━━\u001b[0m \u001b[32m0.0/454.3 kB\u001b[0m \u001b[31m?\u001b[0m eta \u001b[36m-:--:--\u001b[0m\r\u001b[2K   \u001b[90m━━━━━━━━━━━━━━━━━━━━━━━━━━━━━━━━━━━━━━━━\u001b[0m \u001b[32m454.3/454.3 kB\u001b[0m \u001b[31m13.7 MB/s\u001b[0m eta \u001b[36m0:00:00\u001b[0m\n",
            "\u001b[?25h\u001b[?25l   \u001b[90m━━━━━━━━━━━━━━━━━━━━━━━━━━━━━━━━━━━━━━━━\u001b[0m \u001b[32m0.0/1.2 MB\u001b[0m \u001b[31m?\u001b[0m eta \u001b[36m-:--:--\u001b[0m\r\u001b[2K   \u001b[91m━━━━━━━━━━━━━━━━━━━━━━━━━━━━━━━━━━━━━━━\u001b[0m\u001b[91m╸\u001b[0m \u001b[32m1.2/1.2 MB\u001b[0m \u001b[31m34.5 MB/s\u001b[0m eta \u001b[36m0:00:01\u001b[0m\r\u001b[2K   \u001b[90m━━━━━━━━━━━━━━━━━━━━━━━━━━━━━━━━━━━━━━━━\u001b[0m \u001b[32m1.2/1.2 MB\u001b[0m \u001b[31m19.8 MB/s\u001b[0m eta \u001b[36m0:00:00\u001b[0m\n",
            "\u001b[?25h"
          ]
        }
      ]
    },
    {
      "cell_type": "code",
      "source": [
        "import getpass\n",
        "import os\n",
        "\n",
        "if not os.environ.get(\"AZURE_OPENAI_API_KEY\"):\n",
        "  os.environ[\"AZURE_OPENAI_API_KEY\"] = getpass.getpass(\"Enter API key for Azure: \")\n",
        "\n",
        "from langchain_openai import AzureChatOpenAI\n",
        "\n",
        "llm = AzureChatOpenAI(\n",
        "    azure_endpoint='https://dai-team3-openai.openai.azure.com/',\n",
        "    azure_deployment='gpt-4o-mini',\n",
        "    openai_api_version='2024-10-01-preview',\n",
        ")"
      ],
      "metadata": {
        "colab": {
          "base_uri": "https://localhost:8080/"
        },
        "id": "fqWuRdG5PKw7",
        "outputId": "50530af7-a250-4ada-faa0-0ac3d75e616e"
      },
      "execution_count": 3,
      "outputs": [
        {
          "name": "stdout",
          "output_type": "stream",
          "text": [
            "Enter API key for Azure: ··········\n"
          ]
        }
      ]
    },
    {
      "cell_type": "code",
      "source": [
        "from langchain_openai import AzureOpenAIEmbeddings\n",
        "\n",
        "embeddings = AzureOpenAIEmbeddings(\n",
        "    azure_endpoint='https://dai-team3-openai.openai.azure.com/',\n",
        "    azure_deployment='text-embedding-3-small',\n",
        "    openai_api_version='2024-10-01-preview',\n",
        ")"
      ],
      "metadata": {
        "id": "OyOO4jsXPxZp"
      },
      "execution_count": 4,
      "outputs": []
    },
    {
      "cell_type": "code",
      "source": [
        "%pip install -qU langchain-core"
      ],
      "metadata": {
        "id": "bby7YUvWP8l3"
      },
      "execution_count": 5,
      "outputs": []
    },
    {
      "cell_type": "code",
      "source": [
        "from langchain_core.vectorstores import InMemoryVectorStore\n",
        "\n",
        "vector_store = InMemoryVectorStore(embeddings)"
      ],
      "metadata": {
        "id": "gtbyupRQQCXj"
      },
      "execution_count": 6,
      "outputs": []
    },
    {
      "cell_type": "code",
      "source": [
        "file_path = (\n",
        "    \"/content/GoldmanSachsima.pdf\"\n",
        ")"
      ],
      "metadata": {
        "id": "a8GBeOxIc1hN"
      },
      "execution_count": 23,
      "outputs": []
    },
    {
      "cell_type": "code",
      "source": [
        "%pip install -qU pypdf"
      ],
      "metadata": {
        "colab": {
          "base_uri": "https://localhost:8080/"
        },
        "id": "UggfiQb2c9Zb",
        "outputId": "a364fb7d-2921-4a8e-bfa4-977cea136f22"
      },
      "execution_count": 8,
      "outputs": [
        {
          "output_type": "stream",
          "name": "stdout",
          "text": [
            "\u001b[?25l   \u001b[90m━━━━━━━━━━━━━━━━━━━━━━━━━━━━━━━━━━━━━━━━\u001b[0m \u001b[32m0.0/298.0 kB\u001b[0m \u001b[31m?\u001b[0m eta \u001b[36m-:--:--\u001b[0m\r\u001b[2K   \u001b[91m━━━━━━━━━━━━━━━━━━━━\u001b[0m\u001b[91m╸\u001b[0m\u001b[90m━━━━━━━━━━━━━━━━━━━\u001b[0m \u001b[32m153.6/298.0 kB\u001b[0m \u001b[31m4.6 MB/s\u001b[0m eta \u001b[36m0:00:01\u001b[0m\r\u001b[2K   \u001b[90m━━━━━━━━━━━━━━━━━━━━━━━━━━━━━━━━━━━━━━━━\u001b[0m \u001b[32m298.0/298.0 kB\u001b[0m \u001b[31m5.2 MB/s\u001b[0m eta \u001b[36m0:00:00\u001b[0m\n",
            "\u001b[?25h"
          ]
        }
      ]
    },
    {
      "cell_type": "code",
      "source": [
        "import os\n",
        "from langchain_community.document_loaders import PyPDFLoader\n",
        "\n",
        "# Path to the folder containing the PDFs\n",
        "folder_path = \"/content/sample_data/pdfs\"\n",
        "\n",
        "# List to store all pages from all PDFs\n",
        "all_pages = []\n",
        "\n",
        "# Iterate over all files in the folder\n",
        "for filename in os.listdir(folder_path):\n",
        "    # Check if the file is a PDF\n",
        "    if filename.endswith(\".pdf\"):\n",
        "        file_path = os.path.join(folder_path, filename)\n",
        "\n",
        "        # Load the PDF\n",
        "        loader = PyPDFLoader(file_path)\n",
        "\n",
        "        # Load pages asynchronously\n",
        "        async for page in loader.alazy_load():\n",
        "            all_pages.append(page)\n",
        "\n",
        "# Now `all_pages` contains pages from all PDFs\n",
        "print(f\"Total pages loaded: {len(all_pages)}\")\n"
      ],
      "metadata": {
        "colab": {
          "base_uri": "https://localhost:8080/"
        },
        "id": "8Tk_3AYidAaJ",
        "outputId": "0b8a741d-a5cc-41b8-9e50-69bbfd2803e4"
      },
      "execution_count": 27,
      "outputs": [
        {
          "output_type": "stream",
          "name": "stdout",
          "text": [
            "Total pages loaded: 90\n"
          ]
        }
      ]
    },
    {
      "cell_type": "code",
      "source": [
        "print(f\"{all_pages[35].metadata}\\n\")\n",
        "print(all_pages[35].page_content)"
      ],
      "metadata": {
        "colab": {
          "base_uri": "https://localhost:8080/"
        },
        "id": "85II1c96dGQe",
        "outputId": "4efeefc6-79d0-4a21-dbe3-1e541f66e8f1"
      },
      "execution_count": 32,
      "outputs": [
        {
          "output_type": "stream",
          "name": "stdout",
          "text": [
            "{'source': '/content/sample_data/pdfs/4690.pdf', 'page': 0}\n",
            "\n",
            "Exhibit B \n",
            "  \n",
            "INVESTMENT MANAGEMENT AGREEMENT \n",
            " \n",
            " This is an investment management agreement (“Agreement”) made as of the date of the later of the \n",
            "signatures of the parties (the “Effective Date”) between the Board of Supervisors of Dinwiddie County, Virginia \n",
            "acting as Trustee for the  Evelyn Abrahams Scholarship Fund  and the Pamplin Social Services Trust Fund \n",
            "(collectively “Client” or “you”) and Thompson, Siegel & Walmsley LLC (the “Adviser”).  By this Agreement, \n",
            "Client employs Adviser as investment manager for Client’s account (the “Account”), on the following terms \n",
            "and conditions: \n",
            " \n",
            "1. Management Discretionary A uthority:  Adviser shall have full power to supervise and direct the \n",
            "investment of the Account in any and all securities, assets and other investments (“Investments”), and to make \n",
            "and implement investment decisions, all without prior consultation with Clie nt, in accordance with such \n",
            "objectives, guidelines and/or restrictions (“Guidelines”) as Client may, from time to time, furnish Adviser in \n",
            "writing, that are set forth in  Exhibit A attached hereto and incorporated into this Agreement.  This discretionary \n",
            "authority makes the Adviser agent and attorney-in-fact with full discretionary power and authority on behalf of \n",
            "the Account to buy, sell, exchange, convert and otherwise trade in any and all stocks, bonds and other securities \n",
            "as the Adviser may select, including cash or cash equivalent investments. \n",
            " \n",
            "The rights, powers, authorities and duties of the Adviser shall be solely and exclusively as provided in \n",
            "this Agreement and under applicable law.  The Adviser shall not be considered a party to any other agreemen t \n",
            "with respect to the Account unless the Adviser specifically agrees in writing to be a party to such agreement. \n",
            " \n",
            "Subject to Section 9 below, Client  authorizes the Adviser to invest the Account’s assets in shares of \n",
            "investment companies registered under the Investment Company Act of 1940, as amended, as well as private \n",
            "funds for which Adviser serves as adviser or sub -adviser (collectively, the “Funds”), subject to Client meeting \n",
            "any qualifying conditions set by the investment vehicle.  Cl ient understands that the amount of Adviser’s \n",
            "compensation as an adviser or sub-adviser to the Funds is based on the market value of assets invested in them.  \n",
            "The Adviser’s advisory and/or sub -advisory fees differ among the Funds and may be higher or lower  than the \n",
            "advisory fee otherwise payable hereunder.  The relationship between the Adviser and the Funds has been fully \n",
            "disclosed to the Client. \n",
            " \n",
            "Adviser shall attend County meetings at least annually, but also as reasonably required by Client, and \n",
            "Adviser shall provide monthly statements and quarterly reports and analysis of the performance of the \n",
            "Account. \n",
            "2. Appointment of Custodian and Account Statements:  Client will appoint a broker, bank, or trust company \n",
            "or other person acceptable to us, to act as tru stee or custodian (the “Custodian”) of the securities and cash \n",
            "constituting the assets of the Account.  The Custodian shall be a “qualified custodian,” as defined by Rule \n",
            "206(4)-2 under the Investment Advisers Act of 1940, as amended (“Advisers Act”).  Client agrees to notify the \n",
            "Adviser, in writing, of any material changes with respect to the qualified custodian, to provide the Adviser with \n",
            "reasonable prior notice of any intention to appoint a successor custodian and to ensure that any such successor \n",
            "custodian is also a qualified custodian.  Client understands and agrees that: (i) the Adviser will not serve as the \n",
            "qualified custodian for the Account and will at no time have title, custody or physical control of the cash and \n",
            "assets in the Account; (ii) under  no circumstances shall the Adviser be held responsible for or assume any \n",
            "liability with respect to custody arrangements or the acts, omissions or conduct of any custodian; and (iii) the \n",
            "Adviser will be entitled to rely on any information provided by any custodian or any other agent of the Client. \n",
            " \n",
            "Client will instruct the Custodian to provide the Adviser with copies of or access to any periodic account \n",
            "statements with respect to the Account no less frequently than quarterly, as well as such other periodic reports \n"
          ]
        }
      ]
    },
    {
      "cell_type": "code",
      "source": [
        "from langchain_text_splitters import RecursiveCharacterTextSplitter\n",
        "\n",
        "text_splitter = RecursiveCharacterTextSplitter(\n",
        "    chunk_size=1000,  # chunk size (characters)\n",
        "    chunk_overlap=200,  # chunk overlap (characters)\n",
        "    add_start_index=True,  # track index in original document\n",
        ")\n",
        "all_splits = text_splitter.split_documents(all_pages)\n",
        "\n",
        "print(f\"Split blog post into {len(all_splits)} sub-documents.\")"
      ],
      "metadata": {
        "colab": {
          "base_uri": "https://localhost:8080/"
        },
        "id": "dP68suylQZ5-",
        "outputId": "2aa5985f-9a11-4024-aef1-70978ffe0e1c"
      },
      "execution_count": 33,
      "outputs": [
        {
          "output_type": "stream",
          "name": "stdout",
          "text": [
            "Split blog post into 273 sub-documents.\n"
          ]
        }
      ]
    },
    {
      "cell_type": "code",
      "source": [
        "all_splits[1]"
      ],
      "metadata": {
        "colab": {
          "base_uri": "https://localhost:8080/"
        },
        "id": "DFffjjJZgiGb",
        "outputId": "a16f0b63-798a-4535-a216-7e2bc65c3120"
      },
      "execution_count": 38,
      "outputs": [
        {
          "output_type": "execute_result",
          "data": {
            "text/plain": [
              "Document(metadata={'source': '/content/sample_data/pdfs/GoldmanSachsima.pdf', 'page': 0, 'start_index': 826}, page_content='that are backed by Agency MBS, or MBS derivatives ;\\nWHEREAS, the FRB-NY is the Reserve Bank authorized by the FOMC to carry out the\\ndomestic policy objective through its management of SOMA;\\nWHEREAS, the FRB-NY, after consultation and approval by the FOMC, determined that\\nthe purchase and management of the SOMA Agency MBS would be done through the use of one or\\nmore investment managers;\\nWHEREAS, as a result of a competitive bidding process Manager has been selected as one\\nof several investment managers to support the FRB-NY in its implementation of the FOMC\\'s\\ndirective;\\nNOW, THEREFORE, it is agreed as follows:\\n1 Appointment as Manager\\nThe FRB-NY hereby appoints the Manager to manage, supervise and direct the investment\\nof a portion of the SOMA account as specified by the FRB-NY (\"Account\") under the terms and\\nconditions set forth herein.By execution of this Agreement, the Manager hereby accepts said')"
            ]
          },
          "metadata": {},
          "execution_count": 38
        }
      ]
    },
    {
      "cell_type": "code",
      "source": [
        "document_ids = vector_store.add_documents(documents=all_splits)\n",
        "\n",
        "print(document_ids[:3])"
      ],
      "metadata": {
        "colab": {
          "base_uri": "https://localhost:8080/"
        },
        "id": "Zd0gA_gdQg1F",
        "outputId": "e7d92c28-72e1-46d5-e88a-1f1765b9da0e"
      },
      "execution_count": 39,
      "outputs": [
        {
          "output_type": "stream",
          "name": "stdout",
          "text": [
            "['402c0475-20c5-41cf-95bd-a5b7a8325d22', 'b69bea7b-dd17-49d5-955b-bfee39755e33', '01995a67-fff1-49c2-9ac4-a672d8428946']\n"
          ]
        }
      ]
    },
    {
      "cell_type": "code",
      "source": [
        "len(document_ids)"
      ],
      "metadata": {
        "colab": {
          "base_uri": "https://localhost:8080/"
        },
        "id": "JoAXXCNHhnlX",
        "outputId": "9399dd22-1a73-435d-c615-47626b0b5a8e"
      },
      "execution_count": 40,
      "outputs": [
        {
          "output_type": "execute_result",
          "data": {
            "text/plain": [
              "273"
            ]
          },
          "metadata": {},
          "execution_count": 40
        }
      ]
    },
    {
      "cell_type": "code",
      "source": [
        "from langchain import hub\n",
        "\n",
        "prompt = hub.pull(\"rlm/rag-prompt\")\n",
        "\n",
        "example_messages = prompt.invoke(\n",
        "    {\"context\": \"(context goes here)\", \"question\": \"(question goes here)\"}\n",
        ").to_messages()\n",
        "\n",
        "assert len(example_messages) == 1\n",
        "print(example_messages[0].content)"
      ],
      "metadata": {
        "colab": {
          "base_uri": "https://localhost:8080/"
        },
        "id": "BX9F0JbOa9Og",
        "outputId": "0acf952c-eeb6-44e9-f08e-c9f64ea980a5"
      },
      "execution_count": 13,
      "outputs": [
        {
          "output_type": "stream",
          "name": "stdout",
          "text": [
            "You are an assistant for question-answering tasks. Use the following pieces of retrieved context to answer the question. If you don't know the answer, just say that you don't know. Use three sentences maximum and keep the answer concise.\n",
            "Question: (question goes here) \n",
            "Context: (context goes here) \n",
            "Answer:\n"
          ]
        },
        {
          "output_type": "stream",
          "name": "stderr",
          "text": [
            "/usr/local/lib/python3.10/dist-packages/langsmith/client.py:261: LangSmithMissingAPIKeyWarning: API key must be provided when using hosted LangSmith API\n",
            "  warnings.warn(\n"
          ]
        }
      ]
    },
    {
      "cell_type": "code",
      "source": [
        "from langchain_core.documents import Document\n",
        "from typing_extensions import List, TypedDict\n",
        "\n",
        "\n",
        "class State(TypedDict):\n",
        "    question: str\n",
        "    context: List[Document]\n",
        "    answer: str"
      ],
      "metadata": {
        "id": "6-lG8xUTbEI_"
      },
      "execution_count": 14,
      "outputs": []
    },
    {
      "cell_type": "code",
      "source": [
        "def retrieve(state: State):\n",
        "    retrieved_docs = vector_store.similarity_search(state[\"question\"])\n",
        "    return {\"context\": retrieved_docs}\n",
        "\n",
        "\n",
        "def generate(state: State):\n",
        "    docs_content = \"\\n\\n\".join(doc.page_content for doc in state[\"context\"])\n",
        "    messages = prompt.invoke({\"question\": state[\"question\"], \"context\": docs_content})\n",
        "    response = llm.invoke(messages)\n",
        "    return {\"answer\": response.content}"
      ],
      "metadata": {
        "id": "kIPNj2uZbHf0"
      },
      "execution_count": 15,
      "outputs": []
    },
    {
      "cell_type": "code",
      "source": [
        "from langgraph.graph import START, StateGraph\n",
        "\n",
        "graph_builder = StateGraph(State).add_sequence([retrieve, generate])\n",
        "graph_builder.add_edge(START, \"retrieve\")\n",
        "graph = graph_builder.compile()"
      ],
      "metadata": {
        "id": "wd-2fyiDbNRY"
      },
      "execution_count": 16,
      "outputs": []
    },
    {
      "cell_type": "code",
      "source": [
        "from IPython.display import Image, display\n",
        "\n",
        "display(Image(graph.get_graph().draw_mermaid_png()))"
      ],
      "metadata": {
        "colab": {
          "base_uri": "https://localhost:8080/",
          "height": 251
        },
        "id": "Sev1CBCmbSSY",
        "outputId": "511dfa30-61af-4c1f-dbfb-9a47b18a6aa7"
      },
      "execution_count": null,
      "outputs": [
        {
          "output_type": "display_data",
          "data": {
            "image/png": "[encoded data removed]",
            "text/plain": [
              "<IPython.core.display.Image object>"
            ]
          },
          "metadata": {}
        }
      ]
    },
    {
      "cell_type": "code",
      "source": [],
      "metadata": {
        "id": "5KMrVtcnh1tx"
      },
      "execution_count": null,
      "outputs": []
    },
    {
      "cell_type": "code",
      "source": [],
      "metadata": {
        "id": "NTcqIJYZh2J8"
      },
      "execution_count": null,
      "outputs": []
    },
    {
      "cell_type": "code",
      "source": [
        "result = graph.invoke({\"question\": \"who is the Reserve Bank authorized by the FOMC to carry out the domestic policy objective through its management of SOMA?\"})\n",
        "\n",
        "print(f'Context: {result[\"context\"]}\\n\\n')\n",
        "print(f'Answer: {result[\"answer\"]}')"
      ],
      "metadata": {
        "colab": {
          "base_uri": "https://localhost:8080/"
        },
        "id": "nXDpolgmbXWo",
        "outputId": "add8a921-92fb-416d-ba87-c4c17c293ac7"
      },
      "execution_count": 41,
      "outputs": [
        {
          "output_type": "stream",
          "name": "stdout",
          "text": [
            "Context: [Document(id='f80942e9-ff48-431d-ab1d-7323c2e35865', metadata={'source': '/content/GoldmanSachsima.pdf', 'page': 0, 'start_index': 826}, page_content='that are backed by Agency MBS, or MBS derivatives ;\\nWHEREAS, the FRB-NY is the Reserve Bank authorized by the FOMC to carry out the\\ndomestic policy objective through its management of SOMA;\\nWHEREAS, the FRB-NY, after consultation and approval by the FOMC, determined that\\nthe purchase and management of the SOMA Agency MBS would be done through the use of one or\\nmore investment managers;\\nWHEREAS, as a result of a competitive bidding process Manager has been selected as one\\nof several investment managers to support the FRB-NY in its implementation of the FOMC\\'s\\ndirective;\\nNOW, THEREFORE, it is agreed as follows:\\n1 Appointment as Manager\\nThe FRB-NY hereby appoints the Manager to manage, supervise and direct the investment\\nof a portion of the SOMA account as specified by the FRB-NY (\"Account\") under the terms and\\nconditions set forth herein.By execution of this Agreement, the Manager hereby accepts said'), Document(id='b69bea7b-dd17-49d5-955b-bfee39755e33', metadata={'source': '/content/sample_data/pdfs/GoldmanSachsima.pdf', 'page': 0, 'start_index': 826}, page_content='that are backed by Agency MBS, or MBS derivatives ;\\nWHEREAS, the FRB-NY is the Reserve Bank authorized by the FOMC to carry out the\\ndomestic policy objective through its management of SOMA;\\nWHEREAS, the FRB-NY, after consultation and approval by the FOMC, determined that\\nthe purchase and management of the SOMA Agency MBS would be done through the use of one or\\nmore investment managers;\\nWHEREAS, as a result of a competitive bidding process Manager has been selected as one\\nof several investment managers to support the FRB-NY in its implementation of the FOMC\\'s\\ndirective;\\nNOW, THEREFORE, it is agreed as follows:\\n1 Appointment as Manager\\nThe FRB-NY hereby appoints the Manager to manage, supervise and direct the investment\\nof a portion of the SOMA account as specified by the FRB-NY (\"Account\") under the terms and\\nconditions set forth herein.By execution of this Agreement, the Manager hereby accepts said'), Document(id='88455b27-9d6f-4990-95df-ba503ca92d0c', metadata={'source': '/content/GoldmanSachsima.pdf', 'page': 2, 'start_index': 2240}, page_content='such policy to the Manager and the other managers providing investment management services to\\nthe FRB-NY in respect of Agency MBS. The Manager will be responsible for adhering to the\\npolicy, as amended from time to time by the FRB-NY, in respect of the forward settlements that it\\nundertakes on behalf of the Account.The FRB-NY shall direct the Manager as to actions to\\nundertake in the event of a counterparty failure. The FRB-NY may direct the Manager to obtain\\ncollateral on behalf of the Account as margin for forward exposure from time to time, and, if the\\nFRB-NY so directs the Manager, the FRB-NY shall specify the form of documentation and\\nprocedures for such exercise.\\nTitle and use of Custodian Bank\\nTitle to all investments shall be held in the name of SOMA, provided that for convenience in\\nbuying, selling and exchanging securities (stocks, bonds, commercial paper, etc.), title to such\\nsecurities may be held in the name of the Custodian, or its nominee.All cash and the indicia of'), Document(id='27038fb0-ae13-4ee4-aa51-f3d63ea9f8dd', metadata={'source': '/content/sample_data/pdfs/GoldmanSachsima.pdf', 'page': 2, 'start_index': 2240}, page_content='such policy to the Manager and the other managers providing investment management services to\\nthe FRB-NY in respect of Agency MBS. The Manager will be responsible for adhering to the\\npolicy, as amended from time to time by the FRB-NY, in respect of the forward settlements that it\\nundertakes on behalf of the Account.The FRB-NY shall direct the Manager as to actions to\\nundertake in the event of a counterparty failure. The FRB-NY may direct the Manager to obtain\\ncollateral on behalf of the Account as margin for forward exposure from time to time, and, if the\\nFRB-NY so directs the Manager, the FRB-NY shall specify the form of documentation and\\nprocedures for such exercise.\\nTitle and use of Custodian Bank\\nTitle to all investments shall be held in the name of SOMA, provided that for convenience in\\nbuying, selling and exchanging securities (stocks, bonds, commercial paper, etc.), title to such\\nsecurities may be held in the name of the Custodian, or its nominee.All cash and the indicia of')]\n",
            "\n",
            "\n",
            "Answer: The Reserve Bank authorized by the FOMC to carry out the domestic policy objective through its management of SOMA is the Federal Reserve Bank of New York (FRB-NY).\n"
          ]
        }
      ]
    }
  ]
}